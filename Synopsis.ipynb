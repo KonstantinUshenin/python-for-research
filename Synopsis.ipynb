{
 "cells": [
  {
   "cell_type": "markdown",
   "metadata": {},
   "source": [
    "#### Программа курса\n",
    "\n",
    "- Научные вычисления (Уровень 1)\n",
    "    - Вывод графиков (numpy, matplotlib)\n",
    "        - Занятие 1.2.1 | Графики функций c numpy и matplotlib\n",
    "    - Работа с изображениями (numpy, matplotlib, scipy.ndimage)\n",
    "        - Занятие 1.3.1 | Изображение как массив. Обрезка, изменение размера и переворот изображения\n",
    "        - Занятие 1.3.1 | Каналы изображения. Изображения в градации серого"
   ]
  }
 ],
 "metadata": {
  "kernelspec": {
   "display_name": "Python 3",
   "language": "python",
   "name": "python3"
  },
  "language_info": {
   "codemirror_mode": {
    "name": "ipython",
    "version": 3
   },
   "file_extension": ".py",
   "mimetype": "text/x-python",
   "name": "python",
   "nbconvert_exporter": "python",
   "pygments_lexer": "ipython3",
   "version": "3.5.2"
  }
 },
 "nbformat": 4,
 "nbformat_minor": 2
}
